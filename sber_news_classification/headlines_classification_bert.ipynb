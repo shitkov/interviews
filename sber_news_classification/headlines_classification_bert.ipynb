{
  "nbformat": 4,
  "nbformat_minor": 0,
  "metadata": {
    "colab": {
      "name": "headlines_classification_bert.ipynb",
      "provenance": [],
      "collapsed_sections": []
    },
    "kernelspec": {
      "name": "python3",
      "display_name": "Python 3"
    },
    "language_info": {
      "name": "python"
    },
    "accelerator": "GPU"
  },
  "cells": [
    {
      "cell_type": "code",
      "metadata": {
        "id": "F0zXfVl11NP9"
      },
      "source": [
        "%%capture\n",
        "!wget https://raw.githubusercontent.com/shitkov/news_classification/main/bert_classifier.py\n",
        "!wget https://raw.githubusercontent.com/shitkov/news_classification/main/bert_dataset.py\n",
        "!wget https://raw.githubusercontent.com/shitkov/news_classification/main/requirements.txt\n",
        "!wget https://raw.githubusercontent.com/shitkov/news_classification/main/news.zip\n",
        "!wget https://raw.githubusercontent.com/shitkov/news_classification/main/headlines_train.csv\n",
        "!wget https://raw.githubusercontent.com/shitkov/news_classification/main/headlines_test.csv\n",
        "!unzip '/content/news.zip' -d '/content/'\n",
        "!pip install -r /content/requirements.txt"
      ],
      "execution_count": null,
      "outputs": []
    },
    {
      "cell_type": "code",
      "metadata": {
        "id": "ndOm4lzIv1nf"
      },
      "source": [
        "import pandas as pd\n",
        "from sklearn.model_selection import train_test_split\n",
        "\n",
        "from bert_dataset import CustomDataset\n",
        "from bert_classifier import BertClassifier\n",
        "\n",
        "from sklearn.metrics import precision_recall_fscore_support"
      ],
      "execution_count": null,
      "outputs": []
    },
    {
      "cell_type": "markdown",
      "metadata": {
        "id": "kobkYoSqwDcx"
      },
      "source": [
        "Get data"
      ]
    },
    {
      "cell_type": "code",
      "metadata": {
        "id": "nzIv4zy2oRQT"
      },
      "source": [
        "data_train = pd.read_csv('/content/headlines_train.csv').reset_index()\n",
        "data_test = pd.read_csv('/content/headlines_test.csv').reset_index()"
      ],
      "execution_count": null,
      "outputs": []
    },
    {
      "cell_type": "code",
      "metadata": {
        "id": "lYJ4e3pcoW8s"
      },
      "source": [
        "data_valid, data_test = train_test_split(data_test, test_size=0.5, random_state=42)"
      ],
      "execution_count": null,
      "outputs": []
    },
    {
      "cell_type": "code",
      "metadata": {
        "id": "7MewAiktpLU2"
      },
      "source": [
        "X_train = list(data_train['title'])\n",
        "y_train = list(data_train['label'])\n",
        "\n",
        "X_valid = list(data_valid['title'])\n",
        "y_valid = list(data_valid['label'])\n",
        "\n",
        "X_test = list(data_test['title'])\n",
        "y_test = list(data_test['label'])"
      ],
      "execution_count": null,
      "outputs": []
    },
    {
      "cell_type": "markdown",
      "metadata": {
        "id": "xJtu_4PKFAxU"
      },
      "source": [
        "Initialize BERT classifier"
      ]
    },
    {
      "cell_type": "code",
      "metadata": {
        "colab": {
          "base_uri": "https://localhost:8080/"
        },
        "id": "kFHabt8p_IY7",
        "outputId": "878e49dd-6015-4902-f154-3e4f549d9813"
      },
      "source": [
        "%%capture\n",
        "classifier = BertClassifier(\n",
        "        model_path='cointegrated/rubert-tiny',\n",
        "        tokenizer_path='cointegrated/rubert-tiny',\n",
        "        n_classes=2,\n",
        "        epochs=20,\n",
        "        model_save_path='/content/bert.pt'\n",
        ")"
      ],
      "execution_count": null,
      "outputs": [
        {
          "output_type": "stream",
          "name": "stderr",
          "text": [
            "Some weights of the model checkpoint at cointegrated/rubert-tiny were not used when initializing BertForSequenceClassification: ['cls.predictions.bias', 'cls.predictions.transform.dense.weight', 'cls.predictions.transform.dense.bias', 'cls.predictions.transform.LayerNorm.weight', 'cls.predictions.transform.LayerNorm.bias', 'cls.predictions.decoder.weight', 'cls.predictions.decoder.bias', 'cls.seq_relationship.weight', 'cls.seq_relationship.bias']\n",
            "- This IS expected if you are initializing BertForSequenceClassification from the checkpoint of a model trained on another task or with another architecture (e.g. initializing a BertForSequenceClassification model from a BertForPreTraining model).\n",
            "- This IS NOT expected if you are initializing BertForSequenceClassification from the checkpoint of a model that you expect to be exactly identical (initializing a BertForSequenceClassification model from a BertForSequenceClassification model).\n",
            "Some weights of BertForSequenceClassification were not initialized from the model checkpoint at cointegrated/rubert-tiny and are newly initialized: ['classifier.weight', 'classifier.bias']\n",
            "You should probably TRAIN this model on a down-stream task to be able to use it for predictions and inference.\n"
          ]
        }
      ]
    },
    {
      "cell_type": "markdown",
      "metadata": {
        "id": "5dc-F_9vFGb1"
      },
      "source": [
        "Prepare data and helpers for train and evlauation"
      ]
    },
    {
      "cell_type": "code",
      "metadata": {
        "id": "KoB7lDv_8AWe"
      },
      "source": [
        "classifier.preparation(\n",
        "        X_train=X_train,\n",
        "        y_train=y_train,\n",
        "        X_valid=X_valid,\n",
        "        y_valid=y_valid\n",
        "    )"
      ],
      "execution_count": null,
      "outputs": []
    },
    {
      "cell_type": "markdown",
      "metadata": {
        "id": "eUVTfpC5FPsr"
      },
      "source": [
        "Train loop"
      ]
    },
    {
      "cell_type": "code",
      "metadata": {
        "colab": {
          "base_uri": "https://localhost:8080/"
        },
        "id": "Pj_RQTCB9dNJ",
        "outputId": "e2a8db0b-13b9-4f34-f8a9-3b88846863d7"
      },
      "source": [
        "classifier.train()"
      ],
      "execution_count": null,
      "outputs": [
        {
          "output_type": "stream",
          "name": "stdout",
          "text": [
            "Epoch 1/20\n",
            "Train loss 0.6681718130990277 accuracy 0.7559386973180077\n",
            "Val loss 1.633183860196732 accuracy 0.5569620253164557\n",
            "----------\n",
            "Epoch 2/20\n",
            "Train loss 0.4934766469080397 accuracy 0.8796934865900383\n",
            "Val loss 2.004106754413806 accuracy 0.6075949367088608\n",
            "----------\n",
            "Epoch 3/20\n",
            "Train loss 0.3370206245216291 accuracy 0.9222222222222223\n",
            "Val loss 2.300218697928358 accuracy 0.5949367088607594\n",
            "----------\n",
            "Epoch 4/20\n",
            "Train loss 0.246490748185953 accuracy 0.9482758620689655\n",
            "Val loss 2.223523136806398 accuracy 0.6708860759493671\n",
            "----------\n",
            "Epoch 5/20\n",
            "Train loss 0.1523768142081054 accuracy 0.9689655172413794\n",
            "Val loss 2.487241657562481 accuracy 0.6582278481012658\n",
            "----------\n",
            "Epoch 6/20\n",
            "Train loss 0.09944107382133939 accuracy 0.9796934865900383\n",
            "Val loss 2.8570859882132025 accuracy 0.6455696202531646\n",
            "----------\n",
            "Epoch 7/20\n",
            "Train loss 0.0791458348557969 accuracy 0.9839080459770115\n",
            "Val loss 3.171973788136802 accuracy 0.620253164556962\n",
            "----------\n",
            "Epoch 8/20\n",
            "Train loss 0.053518869588844324 accuracy 0.9881226053639847\n",
            "Val loss 3.4987154098150315 accuracy 0.620253164556962\n",
            "----------\n",
            "Epoch 9/20\n",
            "Train loss 0.049076266554856585 accuracy 0.9888888888888889\n",
            "Val loss 3.9036895506927065 accuracy 0.620253164556962\n",
            "----------\n",
            "Epoch 10/20\n",
            "Train loss 0.03947116242880852 accuracy 0.993103448275862\n",
            "Val loss 4.183185115570029 accuracy 0.5949367088607594\n",
            "----------\n",
            "Epoch 11/20\n",
            "Train loss 0.03273190181869921 accuracy 0.9938697318007663\n",
            "Val loss 4.568036236262924 accuracy 0.5822784810126582\n",
            "----------\n",
            "Epoch 12/20\n",
            "Train loss 0.016675620645452555 accuracy 0.9969348659003832\n",
            "Val loss 4.4551438112567725 accuracy 0.6075949367088608\n",
            "----------\n",
            "Epoch 13/20\n",
            "Train loss 0.01619130960753155 accuracy 0.9973180076628353\n",
            "Val loss 4.380886974377449 accuracy 0.6075949367088608\n",
            "----------\n",
            "Epoch 14/20\n",
            "Train loss 0.016877898342102418 accuracy 0.9977011494252874\n",
            "Val loss 4.857380201025978 accuracy 0.5949367088607594\n",
            "----------\n",
            "Epoch 15/20\n",
            "Train loss 0.004974057091927557 accuracy 0.9984674329501916\n",
            "Val loss 5.049182122680639 accuracy 0.620253164556962\n",
            "----------\n",
            "Epoch 16/20\n",
            "Train loss 0.011386314972014545 accuracy 0.9977011494252874\n",
            "Val loss 4.979012277926122 accuracy 0.6075949367088608\n",
            "----------\n",
            "Epoch 17/20\n",
            "Train loss 0.006438121997882195 accuracy 0.9984674329501916\n",
            "Val loss 5.480526356211986 accuracy 0.5822784810126582\n",
            "----------\n",
            "Epoch 18/20\n",
            "Train loss 0.009304157320046183 accuracy 0.9988505747126437\n",
            "Val loss 5.358368843956524 accuracy 0.5822784810126582\n",
            "----------\n",
            "Epoch 19/20\n",
            "Train loss 0.00539933648715305 accuracy 0.9992337164750958\n",
            "Val loss 5.2829088063009495 accuracy 0.5949367088607594\n",
            "----------\n",
            "Epoch 20/20\n",
            "Train loss 0.007360145961624666 accuracy 0.9977011494252874\n",
            "Val loss 5.3532522807264415 accuracy 0.5949367088607594\n",
            "----------\n"
          ]
        }
      ]
    },
    {
      "cell_type": "code",
      "metadata": {
        "id": "-wOBejCfr9pY",
        "colab": {
          "base_uri": "https://localhost:8080/"
        },
        "outputId": "99203d51-a56c-48f0-9fdf-7f6c89683dd3"
      },
      "source": [
        "predictions = [classifier.predict(x) for x in X_test]\n",
        "precision, recall, f1score = precision_recall_fscore_support(y_test, predictions, average='macro')[:3]\n",
        "\n",
        "print(f'precision: {precision}, recall: {recall}, f1score: {f1score}')"
      ],
      "execution_count": null,
      "outputs": [
        {
          "output_type": "stream",
          "name": "stdout",
          "text": [
            "precision: 0.5890957446808511, recall: 0.5860077021822849, f1score: 0.5798549556809025\n"
          ]
        }
      ]
    },
    {
      "cell_type": "markdown",
      "metadata": {
        "id": "wONtGQezxWWT"
      },
      "source": [
        "Train model on all train data"
      ]
    },
    {
      "cell_type": "code",
      "metadata": {
        "colab": {
          "base_uri": "https://localhost:8080/"
        },
        "id": "6G7YcN2WzXzK",
        "outputId": "7d6c4e10-29dc-4714-adcb-370a4eb0b3dd"
      },
      "source": [
        "classifier = BertClassifier(\n",
        "        model_path='cointegrated/rubert-tiny',\n",
        "        tokenizer_path='cointegrated/rubert-tiny',\n",
        "        n_classes=2,\n",
        "        epochs=20,\n",
        "        model_save_path='/content/bert.pt'\n",
        ")"
      ],
      "execution_count": null,
      "outputs": [
        {
          "output_type": "stream",
          "name": "stderr",
          "text": [
            "Some weights of the model checkpoint at cointegrated/rubert-tiny were not used when initializing BertForSequenceClassification: ['cls.predictions.bias', 'cls.predictions.transform.dense.weight', 'cls.predictions.transform.dense.bias', 'cls.predictions.transform.LayerNorm.weight', 'cls.predictions.transform.LayerNorm.bias', 'cls.predictions.decoder.weight', 'cls.predictions.decoder.bias', 'cls.seq_relationship.weight', 'cls.seq_relationship.bias']\n",
            "- This IS expected if you are initializing BertForSequenceClassification from the checkpoint of a model trained on another task or with another architecture (e.g. initializing a BertForSequenceClassification model from a BertForPreTraining model).\n",
            "- This IS NOT expected if you are initializing BertForSequenceClassification from the checkpoint of a model that you expect to be exactly identical (initializing a BertForSequenceClassification model from a BertForSequenceClassification model).\n",
            "Some weights of BertForSequenceClassification were not initialized from the model checkpoint at cointegrated/rubert-tiny and are newly initialized: ['classifier.weight', 'classifier.bias']\n",
            "You should probably TRAIN this model on a down-stream task to be able to use it for predictions and inference.\n"
          ]
        }
      ]
    },
    {
      "cell_type": "code",
      "metadata": {
        "id": "wIzq7qZbqDK-"
      },
      "source": [
        "full_data = pd.concat([data_train, data_valid, data_test])"
      ],
      "execution_count": null,
      "outputs": []
    },
    {
      "cell_type": "code",
      "metadata": {
        "id": "zW92-cIKznYM"
      },
      "source": [
        "data_train, data_valid = train_test_split(full_data, test_size=0.05, random_state=42)\n",
        "\n",
        "X_train = list(data_train['title'])\n",
        "y_train = list(data_train['label'])\n",
        "\n",
        "X_valid = list(data_valid['title'])\n",
        "y_valid = list(data_valid['label'])"
      ],
      "execution_count": null,
      "outputs": []
    },
    {
      "cell_type": "code",
      "metadata": {
        "id": "p2NVgTVB0-oo"
      },
      "source": [
        "classifier.preparation(\n",
        "        X_train=X_train,\n",
        "        y_train=y_train,\n",
        "        X_valid=X_valid,\n",
        "        y_valid=y_valid\n",
        "    )"
      ],
      "execution_count": null,
      "outputs": []
    },
    {
      "cell_type": "code",
      "metadata": {
        "colab": {
          "base_uri": "https://localhost:8080/"
        },
        "id": "9n9kkS4rzvJl",
        "outputId": "63235e6d-81ab-48fd-c537-4b20ba2a92ce"
      },
      "source": [
        "classifier.train()"
      ],
      "execution_count": null,
      "outputs": [
        {
          "output_type": "stream",
          "name": "stdout",
          "text": [
            "Epoch 1/20\n",
            "Train loss 0.6644873032223313 accuracy 0.7337390642829974\n",
            "Val loss 0.8917341005522758 accuracy 0.7338129496402878\n",
            "----------\n",
            "Epoch 2/20\n",
            "Train loss 0.5631372885928603 accuracy 0.8543172308862685\n",
            "Val loss 0.6861865745034136 accuracy 0.8129496402877698\n",
            "----------\n",
            "Epoch 3/20\n",
            "Train loss 0.39269999835227204 accuracy 0.9045264359071891\n",
            "Val loss 0.7136114027700386 accuracy 0.8489208633093526\n",
            "----------\n",
            "Epoch 4/20\n",
            "Train loss 0.30401087928222076 accuracy 0.9315329022441994\n",
            "Val loss 0.8176825606430481 accuracy 0.8417266187050361\n",
            "----------\n",
            "Epoch 5/20\n",
            "Train loss 0.21466859830240187 accuracy 0.9585393685812096\n",
            "Val loss 0.6703199559232287 accuracy 0.8776978417266188\n",
            "----------\n",
            "Epoch 6/20\n",
            "Train loss 0.14354582481784414 accuracy 0.9672879421833397\n",
            "Val loss 0.7135179605986716 accuracy 0.8848920863309353\n",
            "----------\n",
            "Epoch 7/20\n",
            "Train loss 0.09363505122601332 accuracy 0.9806009889691898\n",
            "Val loss 0.7432826645088686 accuracy 0.8920863309352518\n",
            "----------\n",
            "Epoch 8/20\n",
            "Train loss 0.0692297394263705 accuracy 0.9866869532141499\n",
            "Val loss 1.0425257903192686 accuracy 0.8705035971223022\n",
            "----------\n",
            "Epoch 9/20\n",
            "Train loss 0.07275041740918796 accuracy 0.9866869532141499\n",
            "Val loss 0.8060127211380729 accuracy 0.8920863309352518\n",
            "----------\n",
            "Epoch 10/20\n",
            "Train loss 0.0457636734133804 accuracy 0.9897299353366299\n",
            "Val loss 1.069949954144561 accuracy 0.8705035971223022\n",
            "----------\n",
            "Epoch 11/20\n",
            "Train loss 0.05087757831727412 accuracy 0.99201217192849\n",
            "Val loss 1.0379284914251132 accuracy 0.8705035971223022\n",
            "----------\n",
            "Epoch 12/20\n",
            "Train loss 0.03366099072367357 accuracy 0.99391403575504\n",
            "Val loss 0.9056222104789023 accuracy 0.8992805755395684\n",
            "----------\n",
            "Epoch 13/20\n",
            "Train loss 0.03167814994647055 accuracy 0.99467478128566\n",
            "Val loss 0.9866368316199376 accuracy 0.8776978417266188\n",
            "----------\n",
            "Epoch 14/20\n",
            "Train loss 0.0222098349171346 accuracy 0.9961962723469\n",
            "Val loss 1.112665308224905 accuracy 0.8776978417266188\n",
            "----------\n",
            "Epoch 15/20\n",
            "Train loss 0.02721930895493957 accuracy 0.99543552681628\n",
            "Val loss 1.0603856271535927 accuracy 0.8705035971223022\n",
            "----------\n",
            "Epoch 16/20\n",
            "Train loss 0.016761117120336427 accuracy 0.99657664511221\n",
            "Val loss 1.1803011460757553 accuracy 0.8776978417266188\n",
            "----------\n",
            "Epoch 17/20\n",
            "Train loss 0.018569143425244836 accuracy 0.99657664511221\n",
            "Val loss 1.3270023401690683 accuracy 0.8705035971223022\n",
            "----------\n",
            "Epoch 18/20\n",
            "Train loss 0.008641793758853615 accuracy 0.99809813617345\n",
            "Val loss 0.9920298562827319 accuracy 0.9064748201438849\n",
            "----------\n",
            "Epoch 19/20\n",
            "Train loss 0.018488909169940004 accuracy 0.9961962723469\n",
            "Val loss 1.0206383337213343 accuracy 0.8920863309352518\n",
            "----------\n",
            "Epoch 20/20\n",
            "Train loss 0.018126885064129843 accuracy 0.99695701787752\n",
            "Val loss 1.039499151892778 accuracy 0.8920863309352518\n",
            "----------\n"
          ]
        }
      ]
    },
    {
      "cell_type": "code",
      "metadata": {
        "colab": {
          "base_uri": "https://localhost:8080/"
        },
        "id": "tfvW6ejK0HDP",
        "outputId": "a3ab91ec-1366-4501-9047-047e1a8959a4"
      },
      "source": [
        "predictions = [classifier.predict(x) for x in X_valid]\n",
        "precision, recall, f1score = precision_recall_fscore_support(y_valid, predictions, average='macro')[:3]\n",
        "\n",
        "print(f'precision: {precision}, recall: {recall}, f1score: {f1score}')"
      ],
      "execution_count": 20,
      "outputs": [
        {
          "output_type": "stream",
          "name": "stdout",
          "text": [
            "precision: 0.9062758906379453, recall: 0.9066127694859039, f1score: 0.9063973063973063\n"
          ]
        }
      ]
    },
    {
      "cell_type": "markdown",
      "metadata": {
        "id": "dZ_BgIHBz8YE"
      },
      "source": [
        "Prepare test data"
      ]
    },
    {
      "cell_type": "code",
      "metadata": {
        "id": "RdgCIlnyz7EA"
      },
      "source": [
        "test_data = pd.read_csv('/content/test_data.csv', index_col=0)\n",
        "test_data = test_data.fillna('текст')\n",
        "X_test= list(test_data['title'])"
      ],
      "execution_count": null,
      "outputs": []
    },
    {
      "cell_type": "code",
      "metadata": {
        "id": "j8yn86ic26k9"
      },
      "source": [
        "predictions = [classifier.predict(x) for x in X_test]"
      ],
      "execution_count": null,
      "outputs": []
    },
    {
      "cell_type": "code",
      "metadata": {
        "id": "DLVrFGP13g-x"
      },
      "source": [
        "test_data['prediction'] = predictions"
      ],
      "execution_count": null,
      "outputs": []
    },
    {
      "cell_type": "code",
      "metadata": {
        "id": "tt9m4Pjh3hj7"
      },
      "source": [
        "test_data.to_csv('test_data_headlines_prediction.csv')"
      ],
      "execution_count": null,
      "outputs": []
    }
  ]
}