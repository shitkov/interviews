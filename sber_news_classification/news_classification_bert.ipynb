{
  "nbformat": 4,
  "nbformat_minor": 0,
  "metadata": {
    "colab": {
      "name": "news_classification_bert.ipynb",
      "provenance": [],
      "collapsed_sections": []
    },
    "kernelspec": {
      "name": "python3",
      "display_name": "Python 3"
    },
    "language_info": {
      "name": "python"
    },
    "accelerator": "GPU"
  },
  "cells": [
    {
      "cell_type": "code",
      "metadata": {
        "id": "F0zXfVl11NP9"
      },
      "source": [
        "%%capture\n",
        "!wget https://raw.githubusercontent.com/shitkov/news_classification/main/bert_classifier.py\n",
        "!wget https://raw.githubusercontent.com/shitkov/news_classification/main/bert_dataset.py\n",
        "!wget https://raw.githubusercontent.com/shitkov/news_classification/main/requirements.txt\n",
        "!wget https://raw.githubusercontent.com/shitkov/news_classification/main/news.zip\n",
        "!unzip '/content/news.zip' -d '/content/'\n",
        "!pip install -r /content/requirements.txt"
      ],
      "execution_count": 1,
      "outputs": []
    },
    {
      "cell_type": "code",
      "metadata": {
        "id": "ndOm4lzIv1nf"
      },
      "source": [
        "import pandas as pd\n",
        "from sklearn.model_selection import train_test_split\n",
        "\n",
        "from bert_dataset import CustomDataset\n",
        "from bert_classifier import BertClassifier\n",
        "\n",
        "from sklearn.metrics import precision_recall_fscore_support"
      ],
      "execution_count": 2,
      "outputs": []
    },
    {
      "cell_type": "markdown",
      "metadata": {
        "id": "kobkYoSqwDcx"
      },
      "source": [
        "Get data"
      ]
    },
    {
      "cell_type": "code",
      "metadata": {
        "id": "7MewAiktpLU2"
      },
      "source": [
        "data = pd.read_csv('/content/train_data.csv', index_col=0)\n",
        "data_train, data_test = train_test_split(data, test_size=0.2, random_state=42)\n",
        "data_valid, data_test = train_test_split(data_test, test_size=0.5, random_state=42)\n",
        "\n",
        "X_train = list(data_train['sentence'])\n",
        "y_train = list(data_train['label'])\n",
        "\n",
        "X_valid = list(data_valid['sentence'])\n",
        "y_valid = list(data_valid['label'])\n",
        "\n",
        "X_test = list(data_test['sentence'])\n",
        "y_test = list(data_test['label'])"
      ],
      "execution_count": 3,
      "outputs": []
    },
    {
      "cell_type": "markdown",
      "metadata": {
        "id": "xJtu_4PKFAxU"
      },
      "source": [
        "Initialize BERT classifier"
      ]
    },
    {
      "cell_type": "code",
      "metadata": {
        "colab": {
          "base_uri": "https://localhost:8080/"
        },
        "id": "kFHabt8p_IY7",
        "outputId": "e810514b-48a3-4c2d-f7bb-ecf0bf92cfba"
      },
      "source": [
        "%%capture\n",
        "classifier = BertClassifier(\n",
        "        model_path='cointegrated/rubert-tiny',\n",
        "        tokenizer_path='cointegrated/rubert-tiny',\n",
        "        n_classes=2,\n",
        "        epochs=20,\n",
        "        model_save_path='/content/bert.pt'\n",
        ")"
      ],
      "execution_count": 4,
      "outputs": [
        {
          "output_type": "stream",
          "name": "stderr",
          "text": [
            "Some weights of the model checkpoint at cointegrated/rubert-tiny were not used when initializing BertForSequenceClassification: ['cls.predictions.bias', 'cls.predictions.transform.dense.weight', 'cls.predictions.transform.dense.bias', 'cls.predictions.transform.LayerNorm.weight', 'cls.predictions.transform.LayerNorm.bias', 'cls.predictions.decoder.weight', 'cls.predictions.decoder.bias', 'cls.seq_relationship.weight', 'cls.seq_relationship.bias']\n",
            "- This IS expected if you are initializing BertForSequenceClassification from the checkpoint of a model trained on another task or with another architecture (e.g. initializing a BertForSequenceClassification model from a BertForPreTraining model).\n",
            "- This IS NOT expected if you are initializing BertForSequenceClassification from the checkpoint of a model that you expect to be exactly identical (initializing a BertForSequenceClassification model from a BertForSequenceClassification model).\n",
            "Some weights of BertForSequenceClassification were not initialized from the model checkpoint at cointegrated/rubert-tiny and are newly initialized: ['classifier.weight', 'classifier.bias']\n",
            "You should probably TRAIN this model on a down-stream task to be able to use it for predictions and inference.\n"
          ]
        }
      ]
    },
    {
      "cell_type": "markdown",
      "metadata": {
        "id": "5dc-F_9vFGb1"
      },
      "source": [
        "Prepare data and helpers for train and evlauation"
      ]
    },
    {
      "cell_type": "code",
      "metadata": {
        "id": "KoB7lDv_8AWe"
      },
      "source": [
        "classifier.preparation(\n",
        "        X_train=X_train,\n",
        "        y_train=y_train,\n",
        "        X_valid=X_valid,\n",
        "        y_valid=y_valid\n",
        "    )"
      ],
      "execution_count": 5,
      "outputs": []
    },
    {
      "cell_type": "markdown",
      "metadata": {
        "id": "eUVTfpC5FPsr"
      },
      "source": [
        "Train loop"
      ]
    },
    {
      "cell_type": "code",
      "metadata": {
        "colab": {
          "base_uri": "https://localhost:8080/"
        },
        "id": "Pj_RQTCB9dNJ",
        "outputId": "42bcd4a5-d65b-4f1a-be3f-a4ccd86fb751"
      },
      "source": [
        "classifier.train()"
      ],
      "execution_count": 6,
      "outputs": [
        {
          "output_type": "stream",
          "name": "stdout",
          "text": [
            "Epoch 1/20\n",
            "Train loss 0.5995786082470779 accuracy 0.8232209737827716\n",
            "Val loss 0.5198462580086752 accuracy 0.8263473053892216\n",
            "----------\n",
            "Epoch 2/20\n",
            "Train loss 0.43341436319023197 accuracy 0.8816479400749064\n",
            "Val loss 0.5788289732299745 accuracy 0.8443113772455091\n",
            "----------\n",
            "Epoch 3/20\n",
            "Train loss 0.36322633529686327 accuracy 0.9041198501872659\n",
            "Val loss 0.5825970271308463 accuracy 0.8622754491017964\n",
            "----------\n",
            "Epoch 4/20\n",
            "Train loss 0.2868522230386218 accuracy 0.9303370786516855\n",
            "Val loss 0.6025998420539379 accuracy 0.874251497005988\n",
            "----------\n",
            "Epoch 5/20\n",
            "Train loss 0.23955256286107526 accuracy 0.947565543071161\n",
            "Val loss 0.6430347428485264 accuracy 0.8682634730538923\n",
            "----------\n",
            "Epoch 6/20\n",
            "Train loss 0.18123008420496228 accuracy 0.9595505617977529\n",
            "Val loss 0.7149180195736422 accuracy 0.8862275449101797\n",
            "----------\n",
            "Epoch 7/20\n",
            "Train loss 0.13556758261049667 accuracy 0.9685393258426966\n",
            "Val loss 0.8672317289612173 accuracy 0.874251497005988\n",
            "----------\n",
            "Epoch 8/20\n",
            "Train loss 0.1083230180614004 accuracy 0.9767790262172285\n",
            "Val loss 0.6127940962604563 accuracy 0.8922155688622755\n",
            "----------\n",
            "Epoch 9/20\n",
            "Train loss 0.09267749121532623 accuracy 0.9812734082397004\n",
            "Val loss 0.7382851155033721 accuracy 0.874251497005988\n",
            "----------\n",
            "Epoch 10/20\n",
            "Train loss 0.07414269144694749 accuracy 0.9842696629213483\n",
            "Val loss 0.7792295500113098 accuracy 0.8802395209580839\n",
            "----------\n",
            "Epoch 11/20\n",
            "Train loss 0.051349340422015964 accuracy 0.9887640449438203\n",
            "Val loss 0.8521104480470447 accuracy 0.8802395209580839\n",
            "----------\n",
            "Epoch 12/20\n",
            "Train loss 0.04276152013119985 accuracy 0.9902621722846442\n",
            "Val loss 0.9442743275257964 accuracy 0.8802395209580839\n",
            "----------\n",
            "Epoch 13/20\n",
            "Train loss 0.022322914849931562 accuracy 0.9940074906367041\n",
            "Val loss 0.9868874588445838 accuracy 0.874251497005988\n",
            "----------\n",
            "Epoch 14/20\n",
            "Train loss 0.02039880212080647 accuracy 0.9955056179775281\n",
            "Val loss 0.9325850825027286 accuracy 0.8802395209580839\n",
            "----------\n",
            "Epoch 15/20\n",
            "Train loss 0.017876113373062483 accuracy 0.9962546816479401\n",
            "Val loss 0.9508207077351146 accuracy 0.8982035928143713\n",
            "----------\n",
            "Epoch 16/20\n",
            "Train loss 0.010337970455496955 accuracy 0.9970037453183521\n",
            "Val loss 0.982021230972177 accuracy 0.8862275449101797\n",
            "----------\n",
            "Epoch 17/20\n",
            "Train loss 0.011502277654538696 accuracy 0.9977528089887641\n",
            "Val loss 1.0556484374543462 accuracy 0.8922155688622755\n",
            "----------\n",
            "Epoch 18/20\n",
            "Train loss 0.0176341617621743 accuracy 0.9962546816479401\n",
            "Val loss 1.0685879041683284 accuracy 0.8922155688622755\n",
            "----------\n",
            "Epoch 19/20\n",
            "Train loss 0.006578674418354316 accuracy 0.9985018726591761\n",
            "Val loss 1.0752500915381396 accuracy 0.8922155688622755\n",
            "----------\n",
            "Epoch 20/20\n",
            "Train loss 0.002445133254301815 accuracy 0.9992509363295881\n",
            "Val loss 1.0703175843208437 accuracy 0.8922155688622755\n",
            "----------\n"
          ]
        }
      ]
    },
    {
      "cell_type": "code",
      "metadata": {
        "colab": {
          "base_uri": "https://localhost:8080/"
        },
        "id": "-wOBejCfr9pY",
        "outputId": "78cf3e80-4ba5-48a5-ec0c-18772e5b8d51"
      },
      "source": [
        "predictions = [classifier.predict(x) for x in X_test]\n",
        "precision, recall, f1score = precision_recall_fscore_support(y_test, predictions, average='macro')[:3]\n",
        "\n",
        "print(f'precision: {precision}, recall: {recall}, f1score: {f1score}')"
      ],
      "execution_count": 7,
      "outputs": [
        {
          "output_type": "stream",
          "name": "stdout",
          "text": [
            "precision: 0.7484514130855595, recall: 0.8395502645502646, f1score: 0.7784166298098187\n"
          ]
        }
      ]
    },
    {
      "cell_type": "markdown",
      "metadata": {
        "id": "wONtGQezxWWT"
      },
      "source": [
        "Train model on all train data"
      ]
    },
    {
      "cell_type": "code",
      "metadata": {
        "colab": {
          "base_uri": "https://localhost:8080/"
        },
        "id": "6G7YcN2WzXzK",
        "outputId": "0f07fe9a-aa11-46ea-89a8-a29423590e71"
      },
      "source": [
        "classifier = BertClassifier(\n",
        "        model_path='cointegrated/rubert-tiny',\n",
        "        tokenizer_path='cointegrated/rubert-tiny',\n",
        "        n_classes=2,\n",
        "        epochs=20,\n",
        "        model_save_path='/content/bert.pt'\n",
        ")"
      ],
      "execution_count": 8,
      "outputs": [
        {
          "output_type": "stream",
          "name": "stderr",
          "text": [
            "Some weights of the model checkpoint at cointegrated/rubert-tiny were not used when initializing BertForSequenceClassification: ['cls.predictions.bias', 'cls.predictions.transform.dense.weight', 'cls.predictions.transform.dense.bias', 'cls.predictions.transform.LayerNorm.weight', 'cls.predictions.transform.LayerNorm.bias', 'cls.predictions.decoder.weight', 'cls.predictions.decoder.bias', 'cls.seq_relationship.weight', 'cls.seq_relationship.bias']\n",
            "- This IS expected if you are initializing BertForSequenceClassification from the checkpoint of a model trained on another task or with another architecture (e.g. initializing a BertForSequenceClassification model from a BertForPreTraining model).\n",
            "- This IS NOT expected if you are initializing BertForSequenceClassification from the checkpoint of a model that you expect to be exactly identical (initializing a BertForSequenceClassification model from a BertForSequenceClassification model).\n",
            "Some weights of BertForSequenceClassification were not initialized from the model checkpoint at cointegrated/rubert-tiny and are newly initialized: ['classifier.weight', 'classifier.bias']\n",
            "You should probably TRAIN this model on a down-stream task to be able to use it for predictions and inference.\n"
          ]
        }
      ]
    },
    {
      "cell_type": "code",
      "metadata": {
        "id": "zW92-cIKznYM"
      },
      "source": [
        "data_train, data_valid = train_test_split(data, test_size=0.05, random_state=42)\n",
        "\n",
        "X_train = list(data_train['sentence'])\n",
        "y_train = list(data_train['label'])\n",
        "\n",
        "X_valid = list(data_valid['sentence'])\n",
        "y_valid = list(data_valid['label'])"
      ],
      "execution_count": 9,
      "outputs": []
    },
    {
      "cell_type": "code",
      "metadata": {
        "id": "p2NVgTVB0-oo"
      },
      "source": [
        "classifier.preparation(\n",
        "        X_train=X_train,\n",
        "        y_train=y_train,\n",
        "        X_valid=X_valid,\n",
        "        y_valid=y_valid\n",
        "    )"
      ],
      "execution_count": 11,
      "outputs": []
    },
    {
      "cell_type": "code",
      "metadata": {
        "colab": {
          "base_uri": "https://localhost:8080/"
        },
        "id": "9n9kkS4rzvJl",
        "outputId": "73d9c996-e98b-4096-9ce6-296a87c86172"
      },
      "source": [
        "classifier.train()"
      ],
      "execution_count": 12,
      "outputs": [
        {
          "output_type": "stream",
          "name": "stdout",
          "text": [
            "Epoch 1/20\n",
            "Train loss 0.5608620767927837 accuracy 0.8177966101694916\n",
            "Val loss 0.787626727639387 accuracy 0.8235294117647058\n",
            "----------\n",
            "Epoch 2/20\n",
            "Train loss 0.41513445729586534 accuracy 0.8843825665859565\n",
            "Val loss 0.8369152778500898 accuracy 0.8235294117647058\n",
            "----------\n",
            "Epoch 3/20\n",
            "Train loss 0.3635929701803308 accuracy 0.9067796610169492\n",
            "Val loss 1.0104388110727693 accuracy 0.8235294117647058\n",
            "----------\n",
            "Epoch 4/20\n",
            "Train loss 0.2705369030957189 accuracy 0.9315980629539952\n",
            "Val loss 1.5512299546907242 accuracy 0.7647058823529411\n",
            "----------\n",
            "Epoch 5/20\n",
            "Train loss 0.18188513752313562 accuracy 0.9515738498789347\n",
            "Val loss 1.4488510271071897 accuracy 0.7647058823529411\n",
            "----------\n",
            "Epoch 6/20\n",
            "Train loss 0.133157918819153 accuracy 0.9697336561743342\n",
            "Val loss 1.9833037560666626 accuracy 0.7058823529411764\n",
            "----------\n",
            "Epoch 7/20\n",
            "Train loss 0.10419216179599826 accuracy 0.9763922518159807\n",
            "Val loss 2.3237974106191865 accuracy 0.7647058823529411\n",
            "----------\n",
            "Epoch 8/20\n",
            "Train loss 0.07740876693156287 accuracy 0.9854721549636805\n",
            "Val loss 2.6937950467100666 accuracy 0.7058823529411764\n",
            "----------\n",
            "Epoch 9/20\n",
            "Train loss 0.06616766353594794 accuracy 0.9872881355932204\n",
            "Val loss 2.1393099343042397 accuracy 0.7058823529411764\n",
            "----------\n",
            "Epoch 10/20\n",
            "Train loss 0.05130003886466119 accuracy 0.9897094430992737\n",
            "Val loss 2.917052586801017 accuracy 0.6470588235294118\n",
            "----------\n",
            "Epoch 11/20\n",
            "Train loss 0.03702079947735259 accuracy 0.9915254237288136\n",
            "Val loss 2.9227624997792088 accuracy 0.7058823529411764\n",
            "----------\n",
            "Epoch 12/20\n",
            "Train loss 0.04173384027772529 accuracy 0.992130750605327\n",
            "Val loss 3.8175324664995665 accuracy 0.6470588235294118\n",
            "----------\n",
            "Epoch 13/20\n",
            "Train loss 0.023603286346337165 accuracy 0.9963680387409202\n",
            "Val loss 3.0910243611623023 accuracy 0.7058823529411764\n",
            "----------\n",
            "Epoch 14/20\n",
            "Train loss 0.016090586901471665 accuracy 0.9981840193704601\n",
            "Val loss 3.232556578779218 accuracy 0.7058823529411764\n",
            "----------\n",
            "Epoch 15/20\n",
            "Train loss 0.019858018663859233 accuracy 0.9957627118644068\n",
            "Val loss 3.138886113955929 accuracy 0.6470588235294118\n",
            "----------\n",
            "Epoch 16/20\n",
            "Train loss 0.008172275385781613 accuracy 0.9969733656174334\n",
            "Val loss 3.2821051410188224 accuracy 0.7058823529411764\n",
            "----------\n",
            "Epoch 17/20\n",
            "Train loss 0.005695931398143883 accuracy 0.9987893462469735\n",
            "Val loss 3.23958340121486 accuracy 0.7058823529411764\n",
            "----------\n",
            "Epoch 18/20\n",
            "Train loss 0.00616888199810087 accuracy 0.9993946731234867\n",
            "Val loss 3.4430119527687313 accuracy 0.6470588235294118\n",
            "----------\n",
            "Epoch 19/20\n",
            "Train loss 0.0008666636188407807 accuracy 0.9993946731234867\n",
            "Val loss 3.424817939326254 accuracy 0.7058823529411764\n",
            "----------\n",
            "Epoch 20/20\n",
            "Train loss 0.0012601842295443116 accuracy 0.9993946731234867\n",
            "Val loss 3.4397197492641123 accuracy 0.7058823529411764\n",
            "----------\n"
          ]
        }
      ]
    },
    {
      "cell_type": "markdown",
      "metadata": {
        "id": "dZ_BgIHBz8YE"
      },
      "source": [
        "Prepare test data"
      ]
    },
    {
      "cell_type": "code",
      "metadata": {
        "id": "RdgCIlnyz7EA"
      },
      "source": [
        "test_data = pd.read_csv('/content/test_data.csv', index_col=0)\n",
        "test_data = test_data.fillna('текст')\n",
        "X_test= list(test_data['text'])"
      ],
      "execution_count": 23,
      "outputs": []
    },
    {
      "cell_type": "code",
      "metadata": {
        "id": "j8yn86ic26k9"
      },
      "source": [
        "predictions = [classifier.predict(x) for x in X_test]"
      ],
      "execution_count": 24,
      "outputs": []
    },
    {
      "cell_type": "code",
      "metadata": {
        "id": "DLVrFGP13g-x"
      },
      "source": [
        "test_data['prediction'] = predictions"
      ],
      "execution_count": 25,
      "outputs": []
    },
    {
      "cell_type": "code",
      "metadata": {
        "id": "tt9m4Pjh3hj7"
      },
      "source": [
        "test_data.to_csv('test_data_prediction.csv')"
      ],
      "execution_count": 28,
      "outputs": []
    }
  ]
}